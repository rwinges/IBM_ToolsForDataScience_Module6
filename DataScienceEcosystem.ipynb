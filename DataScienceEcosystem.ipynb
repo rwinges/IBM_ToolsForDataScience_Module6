{
 "cells": [
  {
   "cell_type": "markdown",
   "id": "13fdf620-0551-4d0a-ba4c-5cb9829d2c4a",
   "metadata": {
    "panel-layout": {
     "height": 60.59375,
     "visible": true,
     "width": 100
    }
   },
   "source": [
    "**Exercise 2 -** *Create markdown cell with title of the notebook*\n",
    "\n",
    "# Data Science Tools and Ecosystem"
   ]
  },
  {
   "cell_type": "markdown",
   "id": "b1b53c89-eb5d-4641-a477-c0b455238d2a",
   "metadata": {},
   "source": [
    "**Exercise 2 Result:**\n",
    "\n",
    "![Result Screenshot for Excercise 2](https://github.com/rwinges/IBM_ToolsForDataScience_Module6/blob/main/2-title.png?raw=true)"
   ]
  },
  {
   "cell_type": "markdown",
   "id": "a1d18016-a2eb-447d-a98c-7600bb3f9a1d",
   "metadata": {},
   "source": [
    "**Exercise 3 -** *Create a markdown cell for an introduction*\n",
    "\n",
    "This notebook summarizes Data Science tools and ecosystem."
   ]
  },
  {
   "cell_type": "markdown",
   "id": "4c2f210d-25b2-4763-b74c-7badd19fad9a",
   "metadata": {},
   "source": [
    "**Exercise 10 -** *Insert a markdown cell to list Objectives*\n",
    "\n",
    "**Objectives:**\n",
    "- List Data Science languages\n",
    "- List Data Science libraries\n",
    "- List Data Science tools\n",
    "- Evaluate arithmetic expressions"
   ]
  },
  {
   "cell_type": "markdown",
   "id": "ced64a90-f871-469b-bb99-e147af8d24d3",
   "metadata": {},
   "source": [
    "**Exercise 3 Result:**\n",
    "\n",
    "![\"Exercise 3 result screenshot\"](https://github.com/rwinges/IBM_ToolsForDataScience_Module6/blob/main/3-title.png?raw=true)"
   ]
  },
  {
   "cell_type": "markdown",
   "id": "8f0c9887-a9f9-4e31-94e9-3e002f16c961",
   "metadata": {},
   "source": [
    "**Exercise 10 Result:**\n",
    "\n",
    "![Exercise 10 results screenshot](https://github.com/rwinges/IBM_ToolsForDataScience_Module6/blob/main/10-objectives.png?raw=true)"
   ]
  },
  {
   "attachments": {},
   "cell_type": "markdown",
   "id": "1dab7807-3197-42c8-9a1e-7e4bfeaf5ea4",
   "metadata": {},
   "source": [
    "**Exercise 4 -** *Create a markdown cell to list data science languages*\n",
    "\n",
    "Popular Data Science languages include:\n",
    "1. Python\n",
    "2. R\n",
    "3. SQL\n",
    "4. Scala\n",
    "5. Java\n",
    "6. C++\n",
    "7. Julia"
   ]
  },
  {
   "cell_type": "markdown",
   "id": "6c566802-efec-4066-9fef-5a32df9da997",
   "metadata": {},
   "source": [
    "**Exercise 4 Result:**\n",
    "\n",
    "![Exercise 4 result screenshot](https://github.com/rwinges/IBM_ToolsForDataScience_Module6/blob/main/4-dslanguages.png?raw=true)"
   ]
  },
  {
   "cell_type": "markdown",
   "id": "3fc8d857-dc45-4cf6-8778-e3e19c50dc1e",
   "metadata": {},
   "source": [
    "**Exercise 5 -** *Create a markdown cell to list data science libraries*\n",
    "\n",
    "Commonly used libraries used by Data Scientists include:\n",
    "\n",
    "Python:\n",
    "1. Pandas\n",
    "2. NumPy\n",
    "3. Matplotlib\n",
    "4. Seaborn\n",
    "5. Scikit-learn\n",
    "6. Keras\n",
    "7. TensorFlow\n",
    "8. Pytorch\n",
    "\n",
    "Scala:\n",
    "1. Vegas\n",
    "2. Big DL\n",
    "\n",
    "R:\n",
    "1. ggplot2\n"
   ]
  },
  {
   "cell_type": "markdown",
   "id": "91076a28-03fa-4219-ae50-049142acf04b",
   "metadata": {},
   "source": [
    "**Exercise 5 Result:**\n",
    "\n",
    "![Exercise 5 result screenshot](https://github.com/rwinges/IBM_ToolsForDataScience_Module6/blob/main/5-dslibraries.png?raw=true)"
   ]
  },
  {
   "cell_type": "markdown",
   "id": "44654745-97aa-48ca-b780-78dac3fdaafc",
   "metadata": {},
   "source": [
    "**Exercise 6 -** *Create a markdown cell with a table of Data Science tools*\n",
    "\n",
    "| Data Science Tools |\n",
    "|:------------------:|\n",
    "| MySQL              |\n",
    "| PostgreSQL         |\n",
    "| Ceph               |"
   ]
  },
  {
   "cell_type": "markdown",
   "id": "14602cc1-5325-4fa8-8b27-678ca3fc004b",
   "metadata": {},
   "source": [
    "**Exercise 6 Results:**\n",
    "\n",
    "![Exercise 6 results screenshot](https://github.com/rwinges/IBM_ToolsForDataScience_Module6/blob/main/6-dstools.png?raw=true)"
   ]
  },
  {
   "cell_type": "markdown",
   "id": "bc101e65-e750-4a1a-a966-dd5a3543c7d1",
   "metadata": {},
   "source": [
    "**Exercise 7 -** *Create a markdown cell introducing arithmetic expression examples*\n",
    "\n",
    "### Below are a few examples of evaluating arithmetic expressions in Python:\n",
    "\n",
    "    4 / 4 + ((40 / 2)-1)\n",
    "    (100 - (49 * 2)) * 10\n",
    "    15 + 5\n",
    "    4 * 4 + 4"
   ]
  },
  {
   "cell_type": "markdown",
   "id": "fe8d6f5a-5da8-406b-ae51-c2c412225cde",
   "metadata": {},
   "source": [
    "**Exercise 7 Results:**\n",
    "\n",
    "![Exercise 7 results screenshot](https://github.com/rwinges/IBM_ToolsForDataScience_Module6/blob/main/7-introarithmetic.png?raw=true)"
   ]
  },
  {
   "cell_type": "markdown",
   "id": "7bec3670-1c08-43a0-a132-fb462d6c7d65",
   "metadata": {},
   "source": [
    "**Exercise 8 -** *Create a code cell to multiply and add numbers*"
   ]
  },
  {
   "cell_type": "code",
   "execution_count": 60,
   "id": "2526dff3-c669-4594-855c-e9d5ef42dfe4",
   "metadata": {},
   "outputs": [
    {
     "data": {
      "text/plain": [
       "17"
      ]
     },
     "execution_count": 60,
     "metadata": {},
     "output_type": "execute_result"
    }
   ],
   "source": [
    "#This a simple arithmetic expression to mutiply then add integers\n",
    "\n",
    "(3*4)+5"
   ]
  },
  {
   "cell_type": "markdown",
   "id": "3ecb8e8e-c33b-45ad-9239-dabb48d98eb5",
   "metadata": {},
   "source": [
    "**Exercise 8 Results:**\n",
    "\n",
    "![Exercise 8 results screenshot](https://github.com/rwinges/IBM_ToolsForDataScience_Module6/blob/main/8-multiplyandaddintegers.png?raw=true)"
   ]
  },
  {
   "cell_type": "markdown",
   "id": "55599490-a42a-4a3b-b511-3eda2c5b89b8",
   "metadata": {},
   "source": [
    "**Exercise 9 -** *Create a code cell to convert minutes to hours*"
   ]
  },
  {
   "cell_type": "code",
   "execution_count": 64,
   "id": "5661d05b-681a-40b2-b426-0a181a6709c7",
   "metadata": {},
   "outputs": [
    {
     "data": {
      "text/plain": [
       "3.3333333333333335"
      ]
     },
     "execution_count": 64,
     "metadata": {},
     "output_type": "execute_result"
    }
   ],
   "source": [
    "#This will convert 200 minutes to hours by diving by 60\n",
    "\n",
    "200/60"
   ]
  },
  {
   "cell_type": "markdown",
   "id": "92042e62-ce8f-4cb1-af99-bd73f5bce916",
   "metadata": {},
   "source": [
    "**Exercise 9 Results:**\n",
    "\n",
    "![Exercise 9 results screenshot](https://github.com/rwinges/IBM_ToolsForDataScience_Module6/blob/main/9-hourstominutes.png?raw=true)"
   ]
  },
  {
   "cell_type": "markdown",
   "id": "6798f04f-1351-4ee6-a0b9-9fe6fa95f989",
   "metadata": {},
   "source": [
    "**Exercise 11 -** *Create a markdown cell to indicate the Author's name*\n",
    "\n",
    "## Author\n",
    "Ryan Winges"
   ]
  },
  {
   "cell_type": "markdown",
   "id": "510a1014-68e3-44cc-97a3-b8c708c3555e",
   "metadata": {},
   "source": [
    "**Exercise 11 Results:**\n",
    "\n",
    "![Exercise 11 results screenshot](https://github.com/rwinges/IBM_ToolsForDataScience_Module6/blob/main/11-authordetails.png?raw=true)"
   ]
  },
  {
   "cell_type": "code",
   "execution_count": null,
   "id": "8cfd96c3-6619-4680-a577-0b81d50d40fa",
   "metadata": {},
   "outputs": [],
   "source": []
  }
 ],
 "metadata": {
  "kernelspec": {
   "display_name": "Python [conda env:base] *",
   "language": "python",
   "name": "conda-base-py"
  },
  "language_info": {
   "codemirror_mode": {
    "name": "ipython",
    "version": 3
   },
   "file_extension": ".py",
   "mimetype": "text/x-python",
   "name": "python",
   "nbconvert_exporter": "python",
   "pygments_lexer": "ipython3",
   "version": "3.12.7"
  },
  "panel-cell-order": [
   "13fdf620-0551-4d0a-ba4c-5cb9829d2c4a"
  ]
 },
 "nbformat": 4,
 "nbformat_minor": 5
}
